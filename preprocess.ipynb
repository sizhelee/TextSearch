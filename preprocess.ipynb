{
 "cells": [
  {
   "cell_type": "markdown",
   "metadata": {},
   "source": [
    "1. 将服务器端每一条新闻转化成txt格式存储"
   ]
  },
  {
   "cell_type": "code",
   "execution_count": 18,
   "metadata": {},
   "outputs": [],
   "source": [
    "import os\n",
    "import pandas as pd\n",
    "import numpy as np\n",
    "\n",
    "dirs = \"./preprocess\"\n",
    "if not os.path.exists(dirs):\n",
    "    os.mkdir(dirs)\n",
    "\n",
    "df = pd.read_csv(\"./data/all_news.csv\")\n",
    "for item in df.iloc():\n",
    "    with open(\"{}/{}.txt\".format(dirs, item.id), \"w\") as f:\n",
    "        f.write(item.title)\n",
    "        f.write(\"\\n\")\n",
    "        f.write(item.body)"
   ]
  },
  {
   "cell_type": "markdown",
   "metadata": {},
   "source": [
    "保存每条新闻id和title的对应关系"
   ]
  },
  {
   "cell_type": "code",
   "execution_count": null,
   "metadata": {},
   "outputs": [],
   "source": []
  }
 ],
 "metadata": {
  "interpreter": {
   "hash": "9989796ec7fb59f7bf2a8298c492019b8d9576723ce78daf27250f6c9a9a8e17"
  },
  "kernelspec": {
   "display_name": "Python 3.8.12 ('tensorflow')",
   "language": "python",
   "name": "python3"
  },
  "language_info": {
   "codemirror_mode": {
    "name": "ipython",
    "version": 3
   },
   "file_extension": ".py",
   "mimetype": "text/x-python",
   "name": "python",
   "nbconvert_exporter": "python",
   "pygments_lexer": "ipython3",
   "version": "3.8.12"
  },
  "orig_nbformat": 4
 },
 "nbformat": 4,
 "nbformat_minor": 2
}
