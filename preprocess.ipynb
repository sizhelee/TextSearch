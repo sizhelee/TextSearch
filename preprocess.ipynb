{
 "cells": [
  {
   "cell_type": "markdown",
   "metadata": {},
   "source": [
    "1. 将服务器端每一条新闻转化成txt格式存储"
   ]
  },
  {
   "cell_type": "code",
   "execution_count": 40,
   "metadata": {},
   "outputs": [],
   "source": [
    "import os\n",
    "import pandas as pd\n",
    "import numpy as np\n",
    "\n",
    "dirs = \"./server_files\"\n",
    "if not os.path.exists(dirs):\n",
    "    os.mkdir(dirs)\n",
    "\n",
    "passage_dirs = \"./server_files/news\"\n",
    "if not os.path.exists(passage_dirs):\n",
    "    os.mkdir(passage_dirs)\n",
    "\n",
    "df = pd.read_csv(\"./data/all_news.csv\")\n",
    "for item in df.iloc():\n",
    "    with open(\"{}/{}.txt\".format(passage_dirs, item.id), \"w\") as f:\n",
    "        f.write(item.title)\n",
    "        f.write(\"\\n\")\n",
    "        f.write(item.body)\n"
   ]
  },
  {
   "cell_type": "markdown",
   "metadata": {},
   "source": [
    "读取数据集，提取词根构建词典，保存词频信息"
   ]
  },
  {
   "cell_type": "code",
   "execution_count": 46,
   "metadata": {},
   "outputs": [],
   "source": [
    "import nltk\n",
    "from nltk.stem import WordNetLemmatizer\n",
    "import string\n",
    "import json\n",
    "\n",
    "lemmatizer = WordNetLemmatizer()\n",
    "dic = {}\n",
    "\n",
    "for i in df.body:\n",
    "    i = i.strip().translate(str.maketrans('', '', string.punctuation))\n",
    "    tokenize = nltk.word_tokenize(i)\n",
    "    for word in tokenize:\n",
    "        lemma = lemmatizer.lemmatize(word.lower())\n",
    "        if lemma in dic.keys():\n",
    "            dic[lemma] += 1\n",
    "        else:\n",
    "            dic[lemma] = 1\n",
    "\n",
    "dic = sorted(dic.items(), key=lambda x: x[1], reverse=True)\n",
    "\n",
    "json_dic = json.dumps(dict(dic))\n",
    "with open(\"./server_files/vocab.json\", \"w\") as f:\n",
    "    f.write(json_dic)\n"
   ]
  }
 ],
 "metadata": {
  "interpreter": {
   "hash": "9989796ec7fb59f7bf2a8298c492019b8d9576723ce78daf27250f6c9a9a8e17"
  },
  "kernelspec": {
   "display_name": "Python 3.8.12 ('tensorflow')",
   "language": "python",
   "name": "python3"
  },
  "language_info": {
   "codemirror_mode": {
    "name": "ipython",
    "version": 3
   },
   "file_extension": ".py",
   "mimetype": "text/x-python",
   "name": "python",
   "nbconvert_exporter": "python",
   "pygments_lexer": "ipython3",
   "version": "3.8.12"
  },
  "orig_nbformat": 4
 },
 "nbformat": 4,
 "nbformat_minor": 2
}
